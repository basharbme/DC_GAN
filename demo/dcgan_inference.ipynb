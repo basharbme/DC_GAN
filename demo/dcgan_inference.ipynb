{
  "nbformat": 4,
  "nbformat_minor": 0,
  "metadata": {
    "colab": {
      "name": "dcgan_inference",
      "provenance": []
    },
    "kernelspec": {
      "name": "python3",
      "display_name": "Python 3"
    },
    "accelerator": "GPU"
  },
  "cells": [
    {
      "cell_type": "markdown",
      "metadata": {
        "id": "2zumUOu6zX0y"
      },
      "source": [
        "# **Cloning the repositiory**"
      ]
    },
    {
      "cell_type": "code",
      "metadata": {
        "colab": {
          "base_uri": "https://localhost:8080/"
        },
        "id": "FmPRcOnbzaio",
        "outputId": "16a71119-6f15-4fa2-f96e-571721851136"
      },
      "source": [
        "!git clone https://github.com/indiradutta/DC_GAN"
      ],
      "execution_count": 1,
      "outputs": [
        {
          "output_type": "stream",
          "text": [
            "Cloning into 'DC_GAN'...\n",
            "remote: Enumerating objects: 207, done.\u001b[K\n",
            "remote: Counting objects: 100% (207/207), done.\u001b[K\n",
            "remote: Compressing objects: 100% (180/180), done.\u001b[K\n",
            "remote: Total 207 (delta 97), reused 30 (delta 10), pack-reused 0\u001b[K\n",
            "Receiving objects: 100% (207/207), 22.84 MiB | 16.26 MiB/s, done.\n",
            "Resolving deltas: 100% (97/97), done.\n"
          ],
          "name": "stdout"
        }
      ]
    },
    {
      "cell_type": "markdown",
      "metadata": {
        "id": "5JJWytozzc7r"
      },
      "source": [
        "# **Running inference to generate images with Deep_Conv_GAN**"
      ]
    },
    {
      "cell_type": "code",
      "metadata": {
        "colab": {
          "base_uri": "https://localhost:8080/"
        },
        "id": "gztwl8V8zfbB",
        "outputId": "a95d1718-2594-493d-bad2-a5f203b354c4"
      },
      "source": [
        "from DC_GAN.model import Deep_Conv_GAN\n",
        "\n",
        "''' Initializing the DC_GAN module with the necessary paths '''\n",
        "Deep_Conv_GAN.inference(Deep_Conv_GAN, set_weight_dir='dcgan-model.pth' , set_gen_dir='result_img')"
      ],
      "execution_count": 2,
      "outputs": [
        {
          "output_type": "stream",
          "text": [
            "Downloading weights\n"
          ],
          "name": "stdout"
        },
        {
          "output_type": "stream",
          "text": [
            "Downloading...\n",
            "From: https://drive.google.com/uc?id=1EMm3rdVZvNoT2y4VtULFNzIwkIQslWQT\n",
            "To: /content/DC_GAN/weights/dcgan-model.pth\n",
            "25.5MB [00:01, 17.6MB/s]\n"
          ],
          "name": "stderr"
        },
        {
          "output_type": "stream",
          "text": [
            "Download finished\n",
            "Directory for saving images not found, making a directory named 'result_img'\n",
            "The generated images are saved in the given directory\n"
          ],
          "name": "stdout"
        }
      ]
    }
  ]
}